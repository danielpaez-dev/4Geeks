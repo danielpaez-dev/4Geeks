{
 "cells": [
  {
   "cell_type": "code",
   "execution_count": 1,
   "id": "3cdbc35b",
   "metadata": {},
   "outputs": [
    {
     "ename": "ModuleNotFoundError",
     "evalue": "No module named 'hypothesis'",
     "output_type": "error",
     "traceback": [
      "\u001b[31m---------------------------------------------------------------------------\u001b[39m",
      "\u001b[31mModuleNotFoundError\u001b[39m                       Traceback (most recent call last)",
      "\u001b[36mCell\u001b[39m\u001b[36m \u001b[39m\u001b[32mIn[1]\u001b[39m\u001b[32m, line 3\u001b[39m\n\u001b[32m      1\u001b[39m \u001b[38;5;28;01mfrom\u001b[39;00m\u001b[38;5;250m \u001b[39m\u001b[34;01mmath\u001b[39;00m\u001b[38;5;250m \u001b[39m\u001b[38;5;28;01mimport\u001b[39;00m pi\n\u001b[32m      2\u001b[39m \u001b[38;5;28;01mfrom\u001b[39;00m\u001b[38;5;250m \u001b[39m\u001b[34;01mtyping\u001b[39;00m\u001b[38;5;250m \u001b[39m\u001b[38;5;28;01mimport\u001b[39;00m TypeVar\n\u001b[32m----> \u001b[39m\u001b[32m3\u001b[39m \u001b[38;5;28;01mfrom\u001b[39;00m\u001b[38;5;250m \u001b[39m\u001b[34;01mhypothesis\u001b[39;00m\u001b[38;5;250m \u001b[39m\u001b[38;5;28;01mimport\u001b[39;00m given\n\u001b[32m      4\u001b[39m \u001b[38;5;28;01mfrom\u001b[39;00m\u001b[38;5;250m \u001b[39m\u001b[34;01mhypothesis\u001b[39;00m\u001b[38;5;250m \u001b[39m\u001b[38;5;28;01mimport\u001b[39;00m strategies \u001b[38;5;28;01mas\u001b[39;00m st\n",
      "\u001b[31mModuleNotFoundError\u001b[39m: No module named 'hypothesis'"
     ]
    }
   ],
   "source": [
    "from math import pi\n",
    "from typing import TypeVar\n",
    "from hypothesis import given\n",
    "from hypothesis import strategies as st"
   ]
  },
  {
   "cell_type": "markdown",
   "id": "7b2f4b9a",
   "metadata": {},
   "source": [
    "# ---------------------------------------------------------------------\n",
    "# Ejercicio 1. Definir la función\n",
    "# media3 : (float, float, float) -> float\n",
    "# tal que (media3 x y z) es la media aritmética de los números x, y y\n",
    "# z. Por ejemplo,\n",
    "# media3(1, 3, 8) == 4.0\n",
    "# media3(-1, 0, 7) == 2.0\n",
    "# media3(-3, 0, 3) == 0.0\n",
    "# ---------------------------------------------------------------------"
   ]
  },
  {
   "cell_type": "code",
   "execution_count": null,
   "id": "43855ea3",
   "metadata": {},
   "outputs": [
    {
     "name": "stdout",
     "output_type": "stream",
     "text": [
      "4.0\n",
      "2.0\n",
      "0.0\n"
     ]
    }
   ],
   "source": [
    "def media3(x:float, y:float, z:float) -> float:\n",
    "    return (x + y + z) / 3\n",
    "\n",
    "print(media3(1, 3, 8))\n",
    "print(media3(-1, 0, 7))\n",
    "print(media3(-3, 0, 3))"
   ]
  },
  {
   "cell_type": "markdown",
   "id": "cf0e0d06",
   "metadata": {},
   "source": [
    "# ---------------------------------------------------------------------\n",
    "# Ejercicio 2. Definir la función\n",
    "# sumaMonedas : (int, int, int, int, int) -> int\n",
    "# tal que sumaMonedas(a, b, c, d, e) es la suma de los euros\n",
    "# correspondientes a a monedas de 1 euro, b de 2 euros, c de 5 euros, d\n",
    "# 10 euros y e de 20 euros. Por ejemplo,\n",
    "# sumaMonedas(0, 0, 0, 0, 1) == 20\n",
    "# sumaMonedas(0, 0, 8, 0, 3) == 100\n",
    "# sumaMonedas(1, 1, 1, 1, 1) == 38\n",
    "# ---------------------------------------------------------------------"
   ]
  },
  {
   "cell_type": "code",
   "execution_count": null,
   "id": "39490a23",
   "metadata": {},
   "outputs": [
    {
     "name": "stdout",
     "output_type": "stream",
     "text": [
      "20\n",
      "100\n",
      "38\n"
     ]
    }
   ],
   "source": [
    "def sumaMonedas(a:int, b:int, c:int, d:int, e:int) -> int:\n",
    "    b *= 2\n",
    "    c *= 5\n",
    "    d *= 10\n",
    "    e *= 20\n",
    "    return a + b + c + d + e\n",
    "\n",
    "print(sumaMonedas(0, 0, 0, 0, 1))\n",
    "print(sumaMonedas(0, 0, 8, 0, 3))\n",
    "print(sumaMonedas(1, 1, 1, 1, 1))"
   ]
  },
  {
   "cell_type": "markdown",
   "id": "34fd5f8c",
   "metadata": {},
   "source": [
    "# ---------------------------------------------------------------------\n",
    "# Ejercicio 3. Definir la función\n",
    "# volumenEsfera : (float) -> float\n",
    "# tal que volumenEsfera(r) es el volumen de la esfera de radio r. Por\n",
    "# ejemplo,\n",
    "# volumenEsfera(10) == 4188.790204786391\n",
    "# ---------------------------------------------------------------------"
   ]
  },
  {
   "cell_type": "code",
   "execution_count": null,
   "id": "7ffacdfe",
   "metadata": {},
   "outputs": [
    {
     "data": {
      "text/plain": [
       "4188.790204786391"
      ]
     },
     "execution_count": 5,
     "metadata": {},
     "output_type": "execute_result"
    }
   ],
   "source": [
    "def volumenEsfera(r:float) -> float:\n",
    "    return 4/3 * pi * r**3\n",
    "\n",
    "volumenEsfera(10)"
   ]
  },
  {
   "cell_type": "markdown",
   "id": "564e44cc",
   "metadata": {},
   "source": [
    "# ---------------------------------------------------------------------\n",
    "# Ejercicio 4. Definir la función\n",
    "# areaDeCoronaCircular : (float, float) -> float\n",
    "# tal que areaDeCoronaCircular(r1, r2) es el área de una corona\n",
    "# circular de radio interior r1 y radio exterior r2. Por ejemplo,\n",
    "# areaDeCoronaCircular(1, 2) == 9.42477796076938\n",
    "# areaDeCoronaCircular(2, 5) == 65.97344572538566\n",
    "# areaDeCoronaCircular(3, 5) == 50.26548245743669\n",
    "# ---------------------------------------------------------------------"
   ]
  },
  {
   "cell_type": "code",
   "execution_count": null,
   "id": "589add00",
   "metadata": {},
   "outputs": [
    {
     "name": "stdout",
     "output_type": "stream",
     "text": [
      "9.42477796076938\n",
      "65.97344572538566\n",
      "50.26548245743669\n"
     ]
    }
   ],
   "source": [
    "def areaDeCoronaCircular(r1:float, r2:float) -> float:\n",
    "    return areaCirculo(r2) - areaCirculo(r1)\n",
    "\n",
    "def areaCirculo(r: float) -> float:\n",
    "    return pi * r**2\n",
    "\n",
    "print(areaDeCoronaCircular(1, 2))\n",
    "print(areaDeCoronaCircular(2, 5))\n",
    "print(areaDeCoronaCircular(3, 5))"
   ]
  },
  {
   "cell_type": "markdown",
   "id": "d40388f9",
   "metadata": {},
   "source": [
    "# ---------------------------------------------------------------------\n",
    "# Ejercicio 5. Definir la función\n",
    "# ultimoDigito : (int) -> int\n",
    "# tal que ultimoDigito(x) es el último dígito del número x. Por\n",
    "# ejemplo,\n",
    "# ultimoDigito(325) == 5\n",
    "# ---------------------------------------------------------------------"
   ]
  },
  {
   "cell_type": "code",
   "execution_count": null,
   "id": "119e8620",
   "metadata": {},
   "outputs": [
    {
     "data": {
      "text/plain": [
       "5"
      ]
     },
     "execution_count": 9,
     "metadata": {},
     "output_type": "execute_result"
    }
   ],
   "source": [
    "def ultimoDigito(x:int) -> int:\n",
    "    return x % 10\n",
    "\n",
    "ultimoDigito(325)"
   ]
  },
  {
   "cell_type": "markdown",
   "id": "4ea0d729",
   "metadata": {},
   "source": [
    "# ---------------------------------------------------------------------\n",
    "# Ejercicio 6. Definir la función\n",
    "# maxTres : (int, int, int) -> int\n",
    "# tal que maxTres(x, y, z) es el máximo de x, y y z. Por ejemplo,\n",
    "# maxTres(6, 2, 4) == 6\n",
    "# maxTres(6, 7, 4) == 7\n",
    "# maxTres(6, 7, 9) == 9\n",
    "# ---------------------------------------------------------------------"
   ]
  },
  {
   "cell_type": "code",
   "execution_count": null,
   "id": "725a1fcb",
   "metadata": {},
   "outputs": [
    {
     "name": "stdout",
     "output_type": "stream",
     "text": [
      "6\n",
      "7\n",
      "9\n"
     ]
    }
   ],
   "source": [
    "def maxTres(x:int, y:int, z:int) -> int:\n",
    "    return max(x, y, z)\n",
    "\n",
    "print(maxTres(6, 2, 4))\n",
    "print(maxTres(6, 7, 4))\n",
    "print(maxTres(6, 7, 9))"
   ]
  },
  {
   "cell_type": "markdown",
   "id": "84c88338",
   "metadata": {},
   "source": [
    "# ---------------------------------------------------------------------\n",
    "# Ejercicio 7. Definir la función\n",
    "# rota1 : (List[A]) -> List[A]\n",
    "# tal que rota1(xs) es la lista obtenida poniendo el primer elemento de\n",
    "# xs al final de la lista. Por ejemplo,\n",
    "# rota1([3, 2, 5, 7]) == [2, 5, 7, 3]\n",
    "# rota1(['a', 'b', 'c']) == ['b', 'c', 'a']\n",
    "# ---------------------------------------------------------------------"
   ]
  },
  {
   "cell_type": "code",
   "execution_count": null,
   "id": "f1053576",
   "metadata": {},
   "outputs": [
    {
     "name": "stdout",
     "output_type": "stream",
     "text": [
      "[2, 5, 7, 3]\n",
      "['b', 'c', 'a']\n"
     ]
    }
   ],
   "source": [
    "def rota1(xs:list) -> list:\n",
    "    if xs == []:\n",
    "        return []\n",
    "    \n",
    "    ans = xs[1:]\n",
    "    ans.append(xs[0])\n",
    "    return ans\n",
    "\n",
    "print(rota1([3, 2, 5, 7]))\n",
    "print(rota1(['a', 'b', 'c']))"
   ]
  },
  {
   "cell_type": "markdown",
   "id": "bbedcff4",
   "metadata": {},
   "source": [
    "# ---------------------------------------------------------------------\n",
    "# Ejercicio 8. Definir la función\n",
    "# rota : (int, List[A]) -> List[A]\n",
    "# tal que rota(n, xs) es la lista obtenida poniendo los n primeros\n",
    "# elementos de xs al final de la lista. Por ejemplo,\n",
    "# rota(1, [3, 2, 5, 7]) == [2, 5, 7, 3]\n",
    "# rota(2, [3, 2, 5, 7]) == [5, 7, 3, 2]\n",
    "# rota(3, [3, 2, 5, 7]) == [7, 3, 2, 5]\n",
    "# ---------------------------------------------------------------------"
   ]
  },
  {
   "cell_type": "code",
   "execution_count": null,
   "id": "403312b4",
   "metadata": {},
   "outputs": [
    {
     "name": "stdout",
     "output_type": "stream",
     "text": [
      "[2, 5, 7, 3]\n",
      "[5, 7, 3, 2]\n",
      "[7, 3, 2, 5]\n"
     ]
    }
   ],
   "source": [
    "def rota(n:int, xs:list) -> list:\n",
    "    return xs[n:] + xs[:n]\n",
    "\n",
    "print(rota(1, [3, 2, 5, 7]))\n",
    "print(rota(2, [3, 2, 5, 7]))\n",
    "print(rota(3, [3, 2, 5, 7]))"
   ]
  },
  {
   "cell_type": "markdown",
   "id": "6e335f8c",
   "metadata": {},
   "source": [
    "# ---------------------------------------------------------------------\n",
    "# Ejercicio 9. Definir la función\n",
    "# rango : (List[int]) -> List[int]\n",
    "# tal que rango(xs) es la lista formada por el menor y mayor elemento\n",
    "# de xs.\n",
    "# rango([3, 2, 7, 5]) == [2, 7]\n",
    "# ---------------------------------------------------------------------"
   ]
  },
  {
   "cell_type": "code",
   "execution_count": null,
   "id": "fa3ea636",
   "metadata": {},
   "outputs": [
    {
     "data": {
      "text/plain": [
       "[2, 7]"
      ]
     },
     "execution_count": 20,
     "metadata": {},
     "output_type": "execute_result"
    }
   ],
   "source": [
    "def rango(xs: list[int]) -> list[int]:\n",
    "    return [min(xs), max(xs)]\n",
    "\n",
    "rango([3, 2, 7, 5])"
   ]
  },
  {
   "cell_type": "markdown",
   "id": "5e2d5f49",
   "metadata": {},
   "source": [
    "# ---------------------------------------------------------------------\n",
    "# Ejercicio 10. Definir la función\n",
    "# palindromo : (List[A]) -> bool\n",
    "# tal que palindromo(xs) se verifica si xs es un palíndromo; es decir,\n",
    "# es lo mismo leer xs de izquierda a derecha que de derecha a\n",
    "# izquierda. Por ejemplo,\n",
    "# palindromo([3, 2, 5, 2, 3]) == True\n",
    "# palindromo([3, 2, 5, 6, 2, 3]) == False\n",
    "# ---------------------------------------------------------------------"
   ]
  },
  {
   "cell_type": "code",
   "execution_count": null,
   "id": "342c3dea",
   "metadata": {},
   "outputs": [
    {
     "name": "stdout",
     "output_type": "stream",
     "text": [
      "True\n",
      "False\n"
     ]
    }
   ],
   "source": [
    "def palindromo(xs:list) -> bool:\n",
    "    return xs == xs[::-1]\n",
    "\n",
    "print(palindromo([3, 2, 5, 2, 3]))\n",
    "print(palindromo([3, 2, 5, 6, 2, 3]))"
   ]
  },
  {
   "cell_type": "markdown",
   "id": "d312cb5d",
   "metadata": {},
   "source": [
    "# ---------------------------------------------------------------------\n",
    "# Ejercicio 11. Definir la función\n",
    "# interior : (list[A]) -> list[A]\n",
    "# tal que interior(xs) es la lista obtenida eliminando los extremos de\n",
    "# la lista xs. Por ejemplo,\n",
    "# interior([2, 5, 3, 7, 3]) == [5, 3, 7]\n",
    "# ---------------------------------------------------------------------"
   ]
  },
  {
   "cell_type": "code",
   "execution_count": null,
   "id": "fb2043eb",
   "metadata": {},
   "outputs": [
    {
     "data": {
      "text/plain": [
       "[5, 3, 7]"
      ]
     },
     "execution_count": 30,
     "metadata": {},
     "output_type": "execute_result"
    }
   ],
   "source": [
    "def interior(xs: list) -> list:\n",
    "    return xs[1:-1]\n",
    "\n",
    "interior([2, 5, 3, 7, 3])"
   ]
  },
  {
   "cell_type": "markdown",
   "id": "166d3173",
   "metadata": {},
   "source": [
    "# ---------------------------------------------------------------------\n",
    "# Definir la función\n",
    "# finales : (int, list[A]) -> list[A]\n",
    "# tal que finales(n, xs) es la lista formada por los n finales\n",
    "# elementos de xs. Por ejemplo,\n",
    "# finales(3, [2, 5, 4, 7, 9, 6]) == [7, 9, 6]\n",
    "# ---------------------------------------------------------------------"
   ]
  },
  {
   "cell_type": "code",
   "execution_count": null,
   "id": "77635441",
   "metadata": {},
   "outputs": [
    {
     "data": {
      "text/plain": [
       "[7, 9, 6]"
      ]
     },
     "execution_count": 34,
     "metadata": {},
     "output_type": "execute_result"
    }
   ],
   "source": [
    "def finales(n:int, xs:list) -> list:\n",
    "    return xs[-n:]\n",
    "\n",
    "finales(3, [2, 5, 4, 7, 9, 6])"
   ]
  },
  {
   "cell_type": "markdown",
   "id": "8898ac3f",
   "metadata": {},
   "source": [
    "# ---------------------------------------------------------------------\n",
    "# Ejercicio 13. Definir la función\n",
    "# segmento : (int, int, list[A]) -> list[A]\n",
    "# tal que segmento(m, n, xs) es la lista de los elementos de xs\n",
    "# comprendidos entre las posiciones m y n. Por ejemplo,\n",
    "# segmento(3, 4, [3, 4, 1, 2, 7, 9, 0]) == [1, 2]\n",
    "# segmento(3, 5, [3, 4, 1, 2, 7, 9, 0]) == [1, 2, 7]\n",
    "# segmento(5, 3, [3, 4, 1, 2, 7, 9, 0]) == []\n",
    "# ---------------------------------------------------------------------"
   ]
  },
  {
   "cell_type": "code",
   "execution_count": null,
   "id": "31aa23b6",
   "metadata": {},
   "outputs": [],
   "source": [
    "def segmento(m:int, n:int, xs:list) -> list:\n",
    "\n",
    "\n",
    "print(segmento(3, 4, [3, 4, 1, 2, 7, 9, 0]))\n",
    "print(segmento(3, 5, [3, 4, 1, 2, 7, 9, 0]))\n",
    "print(segmento(5, 3, [3, 4, 1, 2, 7, 9, 0]))"
   ]
  }
 ],
 "metadata": {
  "kernelspec": {
   "display_name": "Python 3",
   "language": "python",
   "name": "python3"
  },
  "language_info": {
   "codemirror_mode": {
    "name": "ipython",
    "version": 3
   },
   "file_extension": ".py",
   "mimetype": "text/x-python",
   "name": "python",
   "nbconvert_exporter": "python",
   "pygments_lexer": "ipython3",
   "version": "3.12.1"
  }
 },
 "nbformat": 4,
 "nbformat_minor": 5
}
